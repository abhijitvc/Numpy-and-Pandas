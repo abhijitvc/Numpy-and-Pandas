{
 "cells": [
  {
   "cell_type": "markdown",
   "metadata": {},
   "source": [
    "**1. Write a Python program to find the maximum and minimum value of a given flattened array.**"
   ]
  },
  {
   "cell_type": "code",
   "execution_count": 9,
   "metadata": {},
   "outputs": [
    {
     "name": "stdout",
     "output_type": "stream",
     "text": [
      "Flattened array\n",
      "[[0 1]\n",
      " [2 3]]\n",
      "\n",
      "Max of a: 3\n",
      "\n",
      "Min of a: 0\n"
     ]
    }
   ],
   "source": [
    "import numpy as np\n",
    "\n",
    "a = np.arange(4).reshape((2,2))\n",
    "print(\"Flattened array\")\n",
    "print(a)\n",
    "print()\n",
    "print(\"Max of a:\",np.max(a))\n",
    "print()\n",
    "print(\"Min of a:\",np.min(a))"
   ]
  },
  {
   "cell_type": "markdown",
   "metadata": {},
   "source": [
    "**2. Write a NumPy program to get the minimum and maximum value of a given array along the second axis.**"
   ]
  },
  {
   "cell_type": "code",
   "execution_count": 13,
   "metadata": {},
   "outputs": [
    {
     "name": "stdout",
     "output_type": "stream",
     "text": [
      "Original array\n",
      "[[0 1]\n",
      " [2 3]]\n",
      "\n",
      "Max value along the second axis: [1 3]\n",
      "\n",
      "Min value along the second axis: [0 2]\n"
     ]
    }
   ],
   "source": [
    "a = np.arange(4).reshape((2,2))\n",
    "print(\"Original array\")\n",
    "print(a)\n",
    "print()\n",
    "print(\"Max value along the second axis:\",np.amax(a,1))\n",
    "print()\n",
    "print(\"Min value along the second axis:\",np.min(a,1))"
   ]
  },
  {
   "cell_type": "markdown",
   "metadata": {},
   "source": [
    "**3. Write a NumPy program to calculate the difference between the maximum and the minimum values of a given array along the second axis.**"
   ]
  },
  {
   "cell_type": "code",
   "execution_count": 18,
   "metadata": {},
   "outputs": [
    {
     "name": "stdout",
     "output_type": "stream",
     "text": [
      "Original array\n",
      "[[ 0  1  2  3  4  5  6  7]\n",
      " [ 8  9 10 11 12 13 14 15]]\n",
      "\n",
      "Differene between max and min value along the second axis: [7 7]\n"
     ]
    }
   ],
   "source": [
    "a = np.arange(16).reshape((2,8))\n",
    "print(\"Original array\")\n",
    "print(a)\n",
    "print()\n",
    "print(\"Differene between max and min value along the second axis:\",(np.amax(a,1))-(np.min(a,1)))"
   ]
  },
  {
   "cell_type": "code",
   "execution_count": 17,
   "metadata": {},
   "outputs": [
    {
     "name": "stdout",
     "output_type": "stream",
     "text": [
      "\n",
      "Original array:\n",
      "[[ 0  1  2  3  4  5  6  7]\n",
      " [ 8  9 10 11 12 13 14 15]]\n",
      "\n",
      "Difference between the maximum and the minimum values of the said array:\n",
      "[7 7]\n"
     ]
    }
   ],
   "source": [
    "import numpy as np\n",
    "x = np.arange(16).reshape((2, 8))\n",
    "print(\"\\nOriginal array:\")\n",
    "print(x)\n",
    "r1 = np.ptp(x, 1)\n",
    "r2 = np.amax(x, 1) - np.amin(x, 1)\n",
    "assert np.allclose(r1, r2)\n",
    "print(\"\\nDifference between the maximum and the minimum values of the said array:\")\n",
    "print(r1)"
   ]
  },
  {
   "cell_type": "markdown",
   "metadata": {},
   "source": [
    "**4. Write a NumPy program to compute the 80th percentile for all elements in a given array along the second axis.**"
   ]
  },
  {
   "cell_type": "code",
   "execution_count": 21,
   "metadata": {},
   "outputs": [
    {
     "name": "stdout",
     "output_type": "stream",
     "text": [
      "Original array\n",
      "[[ 0  1  2  3  4  5  6  7]\n",
      " [ 8  9 10 11 12 13 14 15]]\n",
      "\n",
      "[ 5.6 13.6]\n"
     ]
    }
   ],
   "source": [
    "a = np.arange(16).reshape((2,8))\n",
    "print(\"Original array\")\n",
    "print(a)\n",
    "print()\n",
    "print(np.percentile(a,80,1))"
   ]
  },
  {
   "cell_type": "markdown",
   "metadata": {},
   "source": [
    "**5. Write a NumPy program to compute the median of flattened given array.**"
   ]
  },
  {
   "cell_type": "code",
   "execution_count": 23,
   "metadata": {},
   "outputs": [
    {
     "name": "stdout",
     "output_type": "stream",
     "text": [
      "Original array\n",
      "[[ 0  1  2  3  4  5  6  7]\n",
      " [ 8  9 10 11 12 13 14 15]]\n",
      "\n",
      "Median of given array: 7.5\n"
     ]
    }
   ],
   "source": [
    "a = np.arange(16).reshape((2,8))\n",
    "print(\"Original array\")\n",
    "print(a)\n",
    "print()\n",
    "print(\"Median of given array:\",np.median(a))"
   ]
  },
  {
   "cell_type": "markdown",
   "metadata": {},
   "source": [
    "**6. Write a NumPy program to compute the weighted average of a given array.**"
   ]
  },
  {
   "cell_type": "code",
   "execution_count": 26,
   "metadata": {},
   "outputs": [
    {
     "name": "stdout",
     "output_type": "stream",
     "text": [
      "\n",
      "Original array:\n",
      "[0 1 2 3 4]\n",
      "\n",
      "Weighted average of the said array:\n",
      "2.6666666666666665\n"
     ]
    }
   ],
   "source": [
    "import numpy as np\n",
    "x = np.arange(5)\n",
    "print(\"\\nOriginal array:\")\n",
    "print(x)\n",
    "\n",
    "weights = np.arange(1, 6)\n",
    "\n",
    "r1 = np.average(x, weights=weights)\n",
    "r2 = (x*(weights/weights.sum())).sum()\n",
    "assert np.allclose(r1, r2)\n",
    "\n",
    "print(\"\\nWeighted average of the said array:\")\n",
    "print(r1)"
   ]
  },
  {
   "cell_type": "markdown",
   "metadata": {},
   "source": [
    "**7. Write a NumPy program to compute the mean, standard deviation, and variance of a given array along the second axis.**"
   ]
  },
  {
   "cell_type": "code",
   "execution_count": 29,
   "metadata": {},
   "outputs": [
    {
     "name": "stdout",
     "output_type": "stream",
     "text": [
      "Original array\n",
      "[[ 0  1  2  3  4  5  6  7  8  9]\n",
      " [10 11 12 13 14 15 16 17 18 19]]\n",
      "\n",
      "Mean: [ 4.5 14.5]\n",
      "Standard Deviation: [2.87228132 2.87228132]\n",
      "Variance: [8.25 8.25]\n"
     ]
    }
   ],
   "source": [
    "a = np.arange(20).reshape((2,10))\n",
    "print(\"Original array\")\n",
    "print(a)\n",
    "print()\n",
    "print(\"Mean:\",np.mean(a,1))\n",
    "print(\"Standard Deviation:\",np.std(a,1))\n",
    "print(\"Variance:\",np.var(a,1))"
   ]
  },
  {
   "cell_type": "code",
   "execution_count": 32,
   "metadata": {},
   "outputs": [
    {
     "name": "stdout",
     "output_type": "stream",
     "text": [
      "5.833333333333333\n",
      "4.5\n",
      "30.472222222222225\n"
     ]
    }
   ],
   "source": [
    "b = np.array([9,4,8,7,6,5,1,3,2,22,1,2])\n",
    "\n",
    "print(np.mean(b))\n",
    "print(np.median(b))\n",
    "print(np.var(b))"
   ]
  },
  {
   "cell_type": "markdown",
   "metadata": {},
   "source": [
    "**8. Write a NumPy program to compute the covariance matrix of two given arrays.**"
   ]
  },
  {
   "cell_type": "code",
   "execution_count": 34,
   "metadata": {},
   "outputs": [
    {
     "name": "stdout",
     "output_type": "stream",
     "text": [
      "[[33.24242424 36.77272727]\n",
      " [36.77272727 54.38636364]]\n"
     ]
    }
   ],
   "source": [
    "b = np.array([9,4,8,7,6,5,1,3,2,22,1,2])\n",
    "c = np.array([22,4,8,7,9,5,1,4,2,22,1,2])\n",
    "print(np.cov(b,c))"
   ]
  },
  {
   "cell_type": "markdown",
   "metadata": {},
   "source": [
    "**9. Write a NumPy program to compute cross-correlation of two given arrays.**"
   ]
  },
  {
   "cell_type": "code",
   "execution_count": 35,
   "metadata": {},
   "outputs": [
    {
     "name": "stdout",
     "output_type": "stream",
     "text": [
      "[[33.24242424 36.77272727]\n",
      " [36.77272727 54.38636364]]\n"
     ]
    }
   ],
   "source": [
    "b = np.array([9,4,8,7,6,5,1,3,2,22,1,2])\n",
    "c = np.array([22,4,8,7,9,5,1,4,2,22,1,2])\n",
    "print(np.cov(b,c))"
   ]
  },
  {
   "cell_type": "markdown",
   "metadata": {},
   "source": [
    "**10. Write a NumPy program to compute pearson product-moment correlation coefficients of two given arrays.**"
   ]
  },
  {
   "cell_type": "code",
   "execution_count": 40,
   "metadata": {},
   "outputs": [
    {
     "name": "stdout",
     "output_type": "stream",
     "text": [
      "[[1.         0.86483745]\n",
      " [0.86483745 1.        ]]\n"
     ]
    }
   ],
   "source": [
    "b = np.array([9,4,8,7,6,5,1,3,2,22,1,2])\n",
    "c = np.array([22,4,8,7,9,5,1,4,2,22,1,2])\n",
    "print(np.corrcoef(b,c))"
   ]
  },
  {
   "cell_type": "markdown",
   "metadata": {},
   "source": [
    "**11. Write a NumPy program to test element-wise of a given array for finiteness (not infinity or not Not a Number), positive or negative infinity, for NaN, for NaT (not a time), for negative infinity, for positive infinity.**"
   ]
  },
  {
   "cell_type": "code",
   "execution_count": 41,
   "metadata": {},
   "outputs": [
    {
     "name": "stdout",
     "output_type": "stream",
     "text": [
      "\n",
      "Test element-wise for finiteness (not infinity or not Not a Number):\n",
      "True\n",
      "True\n",
      "False\n",
      "\n",
      "Test element-wise for positive or negative infinity:\n",
      "True\n",
      "False\n",
      "True\n",
      "Test element-wise for NaN:\n",
      "[ True False False]\n",
      "Test element-wise for NaT (not a time):\n",
      "[ True False]\n",
      "Test element-wise for negative infinity:\n",
      "[1 0 0]\n",
      "Test element-wise for positive infinity:\n",
      "[0 0 1]\n"
     ]
    },
    {
     "name": "stderr",
     "output_type": "stream",
     "text": [
      "C:\\Users\\Abhijit Chendvankar\\Anaconda3\\lib\\site-packages\\ipykernel_launcher.py:11: RuntimeWarning: invalid value encountered in log\n",
      "  # This is added back by InteractiveShellApp.init_path()\n",
      "C:\\Users\\Abhijit Chendvankar\\Anaconda3\\lib\\site-packages\\ipykernel_launcher.py:11: RuntimeWarning: divide by zero encountered in log\n",
      "  # This is added back by InteractiveShellApp.init_path()\n"
     ]
    }
   ],
   "source": [
    "import numpy as np\n",
    "print(\"\\nTest element-wise for finiteness (not infinity or not Not a Number):\")\n",
    "print(np.isfinite(1))\n",
    "print(np.isfinite(0))\n",
    "print(np.isfinite(np.nan))\n",
    "print(\"\\nTest element-wise for positive or negative infinity:\")\n",
    "print(np.isinf(np.inf))\n",
    "print(np.isinf(np.nan))\n",
    "print(np.isinf(np.NINF))\n",
    "print(\"Test element-wise for NaN:\")\n",
    "print(np.isnan([np.log(-1.),1.,np.log(0)]))\n",
    "print(\"Test element-wise for NaT (not a time):\")\n",
    "print(np.isnat(np.array([\"NaT\", \"2016-01-01\"], dtype=\"datetime64[ns]\")))\n",
    "print(\"Test element-wise for negative infinity:\")\n",
    "x = np.array([-np.inf, 0., np.inf])\n",
    "y = np.array([2, 2, 2])\n",
    "print(np.isneginf(x, y))\n",
    "print(\"Test element-wise for positive infinity:\")\n",
    "x = np.array([-np.inf, 0., np.inf])\n",
    "y = np.array([2, 2, 2])\n",
    "print(np.isposinf(x, y))"
   ]
  },
  {
   "cell_type": "markdown",
   "metadata": {},
   "source": [
    "**12. Write a Python NumPy program to compute the weighted average along the specified axis of a given flattened array.**"
   ]
  },
  {
   "cell_type": "code",
   "execution_count": 42,
   "metadata": {},
   "outputs": [
    {
     "name": "stdout",
     "output_type": "stream",
     "text": [
      "Original flattened array:\n",
      "[[0 1 2]\n",
      " [3 4 5]\n",
      " [6 7 8]]\n",
      "Weighted average along the specified axis of the above flattened array:\n",
      "[1.2 4.2 7.2]\n"
     ]
    }
   ],
   "source": [
    "import numpy as np\n",
    "a = np.arange(9).reshape((3,3))\n",
    "print(\"Original flattened array:\")\n",
    "print(a)\n",
    "print(\"Weighted average along the specified axis of the above flattened array:\")\n",
    "print(np.average(a, axis=1, weights=[1./4, 2./4, 2./4]))"
   ]
  },
  {
   "cell_type": "markdown",
   "metadata": {},
   "source": [
    "**13. Write a Python program to count number of occurrences of each value in a given array of non-negative integers.**"
   ]
  },
  {
   "cell_type": "code",
   "execution_count": 43,
   "metadata": {},
   "outputs": [
    {
     "name": "stdout",
     "output_type": "stream",
     "text": [
      "[ 9  4  8  7  6  5  1  3  2 22  1  2  1  1  1  1  4  4  8  8  8  8  8]\n",
      "\n",
      "[0 6 2 1 3 1 1 1 6 1 0 0 0 0 0 0 0 0 0 0 0 0 1]\n"
     ]
    }
   ],
   "source": [
    "b = np.array([9,4,8,7,6,5,1,3,2,22,1,2,1,1,1,1,4,4,8,8,8,8,8])\n",
    "print(b)\n",
    "print()\n",
    "print(np.bincount(b))"
   ]
  },
  {
   "cell_type": "markdown",
   "metadata": {},
   "source": [
    "**14. Write a NumPy program to compute the histogram of nums against the bins.**"
   ]
  },
  {
   "cell_type": "code",
   "execution_count": 51,
   "metadata": {},
   "outputs": [
    {
     "name": "stdout",
     "output_type": "stream",
     "text": [
      "Result: (array([9, 1, 1], dtype=int64), array([0, 1, 2, 3]))\n"
     ]
    },
    {
     "data": {
      "image/png": "[encoded data removed]",
      "text/plain": [
       "<Figure size 432x288 with 1 Axes>"
      ]
     },
     "metadata": {
      "needs_background": "light"
     },
     "output_type": "display_data"
    }
   ],
   "source": [
    "import numpy as np\n",
    "import matplotlib.pyplot as plt\n",
    "\n",
    "d = np.array([0.1,0.2,2.5,0.3,0.4,0.5,5.5,0.6,0.7,7.5,0.8,0.9,1])\n",
    "bins = np.array([0,1,2,3])\n",
    "print(\"Result:\",np.histogram(d,bins))\n",
    "plt.hist(d, bins=bins)\n",
    "plt.show()"
   ]
  },
  {
   "cell_type": "code",
   "execution_count": 45,
   "metadata": {},
   "outputs": [
    {
     "name": "stdout",
     "output_type": "stream",
     "text": [
      "nums:  [0.5 0.7 1.  1.2 1.3 2.1]\n",
      "bins:  [0 1 2 3]\n",
      "Result: (array([2, 3, 1], dtype=int64), array([0, 1, 2, 3]))\n"
     ]
    },
    {
     "data": {
      "image/png": "[encoded data removed]",
      "text/plain": [
       "<Figure size 432x288 with 1 Axes>"
      ]
     },
     "metadata": {
      "needs_background": "light"
     },
     "output_type": "display_data"
    }
   ],
   "source": [
    "import numpy as np\n",
    "import matplotlib.pyplot as plt\n",
    "nums = np.array([0.5, 0.7, 1.0, 1.2, 1.3, 2.1])\n",
    "bins = np.array([0, 1, 2, 3])\n",
    "print(\"nums: \",nums)\n",
    "print(\"bins: \",bins)\n",
    "print(\"Result:\", np.histogram(nums, bins))\n",
    "plt.hist(nums, bins=bins)\n",
    "plt.show()"
   ]
  },
  {
   "cell_type": "code",
   "execution_count": null,
   "metadata": {},
   "outputs": [],
   "source": []
  }
 ],
 "metadata": {
  "kernelspec": {
   "display_name": "Python 3",
   "language": "python",
   "name": "python3"
  },
  "language_info": {
   "codemirror_mode": {
    "name": "ipython",
    "version": 3
   },
   "file_extension": ".py",
   "mimetype": "text/x-python",
   "name": "python",
   "nbconvert_exporter": "python",
   "pygments_lexer": "ipython3",
   "version": "3.7.4"
  }
 },
 "nbformat": 4,
 "nbformat_minor": 2
}
